{
 "cells": [
  {
   "cell_type": "code",
   "execution_count": 82,
   "id": "5dbc8161",
   "metadata": {},
   "outputs": [],
   "source": [
    "from pytorch_grad_cam import GradCAM, HiResCAM, ScoreCAM, GradCAMPlusPlus, AblationCAM, XGradCAM, EigenCAM, FullGrad\n",
    "from pytorch_grad_cam.utils.model_targets import ClassifierOutputTarget\n",
    "from pytorch_grad_cam.utils.image import show_cam_on_image\n",
    "from torchvision.models import resnet18\n",
    "import torch\n",
    "import albumentations as A\n",
    "from albumentations import *\n",
    "from albumentations.pytorch import ToTensorV2\n",
    "import cv2\n",
    "import matplotlib.pyplot as plt\n",
    "from PIL import Image\n",
    "import torchvision"
   ]
  },
  {
   "cell_type": "code",
   "execution_count": 95,
   "id": "1ac2870b",
   "metadata": {},
   "outputs": [],
   "source": [
    "data_dir = \"./dataset/train/\"\n",
    "def get_img_tensor(file_name):\n",
    "    transforms = A.Compose([\n",
    "                    A.Resize(always_apply=False, p=1.0, height=540, width=960, interpolation=0),\n",
    "#                     A.Normalize(mean=[0.485, 0.456, 0.406], std=[0.229, 0.224, 0.225]),\n",
    "#                     ToTensorV2()\n",
    "                                ])\n",
    "    img = cv2.imread(data_dir + file_name)\n",
    "    img = transforms(image=img)[\"image\"]\n",
    "    img = Image.fromarray(img[:, :, :3]) # 여기를 수정 해줘야함.\n",
    "    img = torchvision.transforms.Resize((540, 960))(img)\n",
    "    img = torchvision.transforms.ToTensor()(img)\n",
    "    img = torchvision.transforms.Normalize(mean = (0.485, 0.456, 0.406), std = (0.229, 0.224, 0.225))(img)\n",
    "    img = img.unsqueeze(0)\n",
    "    return img\n",
    "    "
   ]
  },
  {
   "cell_type": "code",
   "execution_count": 96,
   "id": "756ea9fc",
   "metadata": {},
   "outputs": [
    {
     "data": {
      "text/plain": [
       "<All keys matched successfully>"
      ]
     },
     "execution_count": 96,
     "metadata": {},
     "output_type": "execute_result"
    }
   ],
   "source": [
    "model = resnet18()\n",
    "device = torch.device('cpu')\n",
    "model.load_state_dict(torch.load(\"./models/test_model_epoch33.pth\",map_location=device))"
   ]
  },
  {
   "cell_type": "code",
   "execution_count": 261,
   "id": "a63ab35b",
   "metadata": {},
   "outputs": [
    {
     "data": {
      "text/plain": [
       "BasicBlock(\n",
       "  (conv1): Conv2d(512, 512, kernel_size=(3, 3), stride=(1, 1), padding=(1, 1), bias=False)\n",
       "  (bn1): BatchNorm2d(512, eps=1e-05, momentum=0.1, affine=True, track_running_stats=True)\n",
       "  (relu): ReLU(inplace=True)\n",
       "  (conv2): Conv2d(512, 512, kernel_size=(3, 3), stride=(1, 1), padding=(1, 1), bias=False)\n",
       "  (bn2): BatchNorm2d(512, eps=1e-05, momentum=0.1, affine=True, track_running_stats=True)\n",
       ")"
      ]
     },
     "execution_count": 261,
     "metadata": {},
     "output_type": "execute_result"
    }
   ],
   "source": [
    "model.layer4[-1]"
   ]
  },
  {
   "cell_type": "code",
   "execution_count": 268,
   "id": "603b62cf",
   "metadata": {},
   "outputs": [],
   "source": [
    "target_layers = [model.layer4[-1]]\n",
    "cam = GradCAM(model=model, target_layers=target_layers, use_cuda=False)"
   ]
  },
  {
   "cell_type": "code",
   "execution_count": 294,
   "id": "53ab4418",
   "metadata": {},
   "outputs": [],
   "source": [
    "img_name = \"남산타워.jpeg\"\n",
    "img = get_img_tensor(img_name)\n",
    "image = plt.imread(f\"./dataset/train/{img_name}\")"
   ]
  },
  {
   "cell_type": "code",
   "execution_count": 295,
   "id": "ef29a44a",
   "metadata": {},
   "outputs": [
    {
     "name": "stderr",
     "output_type": "stream",
     "text": [
      "/var/folders/r3/mrxww_xx159_m47pkh4ks07r0000gn/T/ipykernel_43604/1315154292.py:1: UserWarning: Implicit dimension choice for softmax has been deprecated. Change the call to include dim=X as an argument.\n",
      "  pred = int(torch.argmax(torch.nn.Softmax()(model(img))).item())\n"
     ]
    }
   ],
   "source": [
    "pred = int(torch.argmax(torch.nn.Softmax()(model(img))).item())"
   ]
  },
  {
   "cell_type": "code",
   "execution_count": 296,
   "id": "0e2f46c1",
   "metadata": {},
   "outputs": [
    {
     "data": {
      "text/plain": [
       "6"
      ]
     },
     "execution_count": 296,
     "metadata": {},
     "output_type": "execute_result"
    }
   ],
   "source": [
    "pred"
   ]
  },
  {
   "cell_type": "code",
   "execution_count": 297,
   "id": "8ec53a87",
   "metadata": {},
   "outputs": [
    {
     "ename": "Exception",
     "evalue": "The input image should np.float32 in the range [0, 1]",
     "output_type": "error",
     "traceback": [
      "\u001b[0;31m---------------------------------------------------------------------------\u001b[0m",
      "\u001b[0;31mException\u001b[0m                                 Traceback (most recent call last)",
      "Input \u001b[0;32mIn [297]\u001b[0m, in \u001b[0;36m<cell line: 4>\u001b[0;34m()\u001b[0m\n\u001b[1;32m      2\u001b[0m grayscale_cam \u001b[38;5;241m=\u001b[39m cam(input_tensor\u001b[38;5;241m=\u001b[39mimg, targets\u001b[38;5;241m=\u001b[39mtargets)\n\u001b[1;32m      3\u001b[0m grayscale_cam \u001b[38;5;241m=\u001b[39m grayscale_cam[\u001b[38;5;241m0\u001b[39m, :]\n\u001b[0;32m----> 4\u001b[0m visualization \u001b[38;5;241m=\u001b[39m \u001b[43mshow_cam_on_image\u001b[49m\u001b[43m(\u001b[49m\u001b[43mimage\u001b[49m\u001b[43m,\u001b[49m\u001b[43m \u001b[49m\u001b[43mgrayscale_cam\u001b[49m\u001b[43m,\u001b[49m\u001b[43m \u001b[49m\u001b[43muse_rgb\u001b[49m\u001b[38;5;241;43m=\u001b[39;49m\u001b[38;5;28;43;01mTrue\u001b[39;49;00m\u001b[43m)\u001b[49m\n",
      "File \u001b[0;32m~/miniforge3/envs/particle/lib/python3.8/site-packages/pytorch_grad_cam/utils/image.py:53\u001b[0m, in \u001b[0;36mshow_cam_on_image\u001b[0;34m(img, mask, use_rgb, colormap, image_weight)\u001b[0m\n\u001b[1;32m     50\u001b[0m heatmap \u001b[38;5;241m=\u001b[39m np\u001b[38;5;241m.\u001b[39mfloat32(heatmap) \u001b[38;5;241m/\u001b[39m \u001b[38;5;241m255\u001b[39m\n\u001b[1;32m     52\u001b[0m \u001b[38;5;28;01mif\u001b[39;00m np\u001b[38;5;241m.\u001b[39mmax(img) \u001b[38;5;241m>\u001b[39m \u001b[38;5;241m1\u001b[39m:\n\u001b[0;32m---> 53\u001b[0m     \u001b[38;5;28;01mraise\u001b[39;00m \u001b[38;5;167;01mException\u001b[39;00m(\n\u001b[1;32m     54\u001b[0m         \u001b[38;5;124m\"\u001b[39m\u001b[38;5;124mThe input image should np.float32 in the range [0, 1]\u001b[39m\u001b[38;5;124m\"\u001b[39m)\n\u001b[1;32m     56\u001b[0m \u001b[38;5;28;01mif\u001b[39;00m image_weight \u001b[38;5;241m<\u001b[39m \u001b[38;5;241m0\u001b[39m \u001b[38;5;129;01mor\u001b[39;00m image_weight \u001b[38;5;241m>\u001b[39m \u001b[38;5;241m1\u001b[39m:\n\u001b[1;32m     57\u001b[0m     \u001b[38;5;28;01mraise\u001b[39;00m \u001b[38;5;167;01mException\u001b[39;00m(\n\u001b[1;32m     58\u001b[0m         \u001b[38;5;124mf\u001b[39m\u001b[38;5;124m\"\u001b[39m\u001b[38;5;124mimage_weight should be in the range [0, 1].\u001b[39m\u001b[38;5;130;01m\\\u001b[39;00m\n\u001b[1;32m     59\u001b[0m \u001b[38;5;124m            Got: \u001b[39m\u001b[38;5;132;01m{\u001b[39;00mimage_weight\u001b[38;5;132;01m}\u001b[39;00m\u001b[38;5;124m\"\u001b[39m)\n",
      "\u001b[0;31mException\u001b[0m: The input image should np.float32 in the range [0, 1]"
     ]
    }
   ],
   "source": [
    "targets = [ClassifierOutputTarget(pred)]\n",
    "grayscale_cam = cam(input_tensor=img, targets=targets)\n",
    "grayscale_cam = grayscale_cam[0, :]\n",
    "visualization = show_cam_on_image(image, grayscale_cam, use_rgb=True)"
   ]
  },
  {
   "cell_type": "code",
   "execution_count": null,
   "id": "9c843eff",
   "metadata": {},
   "outputs": [],
   "source": [
    "plt.imshow(visualization)"
   ]
  },
  {
   "cell_type": "code",
   "execution_count": null,
   "id": "c07c6f37",
   "metadata": {},
   "outputs": [],
   "source": []
  },
  {
   "cell_type": "code",
   "execution_count": null,
   "id": "166bc18d",
   "metadata": {},
   "outputs": [],
   "source": []
  }
 ],
 "metadata": {
  "kernelspec": {
   "display_name": "particle",
   "language": "python",
   "name": "particle"
  },
  "language_info": {
   "codemirror_mode": {
    "name": "ipython",
    "version": 3
   },
   "file_extension": ".py",
   "mimetype": "text/x-python",
   "name": "python",
   "nbconvert_exporter": "python",
   "pygments_lexer": "ipython3",
   "version": "3.8.13"
  }
 },
 "nbformat": 4,
 "nbformat_minor": 5
}
